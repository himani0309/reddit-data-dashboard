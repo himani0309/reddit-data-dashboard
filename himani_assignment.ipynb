{
 "cells": [
  {
   "cell_type": "markdown",
   "id": "4f5a04dd",
   "metadata": {},
   "source": [
    "# Project Dashboard setup\n",
    "\n",
    "This notebook clones my GitHub project and installs its python dependencies into your pre-existing python environment\n",
    "\n",
    "- Repo: `https://github.com/himani0309/reddit-data-dashboard.git`\n",
    "\n",
    "Run the cells top-to-bottom."
   ]
  },
  {
   "cell_type": "code",
   "execution_count": null,
   "id": "8dc5180e",
   "metadata": {
    "vscode": {
     "languageId": "plaintext"
    }
   },
   "outputs": [],
   "source": [
    "%%bash\n",
    "\n",
    "git clone https://github.com/himani0309/reddit-data-dashboard.git\n",
    "cd reddit-data-dashboard"
   ]
  },
  {
   "cell_type": "code",
   "execution_count": null,
   "id": "35344f58",
   "metadata": {
    "vscode": {
     "languageId": "plaintext"
    }
   },
   "outputs": [],
   "source": [
    "%%bash\n",
    "\n",
    "python -m pip install --upgrade streamlit pandas seaborn matplotlib wordcloud\n"
   ]
  },
  {
   "cell_type": "code",
   "execution_count": null,
   "id": "c0ec7d10",
   "metadata": {
    "vscode": {
     "languageId": "plaintext"
    }
   },
   "outputs": [],
   "source": [
    "!pwd\n",
    "!ls -la\n"
   ]
  },
  {
   "cell_type": "code",
   "execution_count": null,
   "id": "1203cb2d",
   "metadata": {
    "vscode": {
     "languageId": "plaintext"
    }
   },
   "outputs": [],
   "source": [
    "%cd /home/gupta/Desktop/reddit-data-dashboard\n",
    "!ls -la | head\n"
   ]
  },
  {
   "cell_type": "code",
   "execution_count": null,
   "id": "a34340ff",
   "metadata": {
    "vscode": {
     "languageId": "plaintext"
    }
   },
   "outputs": [],
   "source": [
    "!streamlit run app.py\n",
    "# agar port busy error aaye to:\n",
    "# !streamlit run app.py --server.port 8502\n"
   ]
  }
 ],
 "metadata": {
  "language_info": {
   "name": "python"
  }
 },
 "nbformat": 4,
 "nbformat_minor": 5
}
