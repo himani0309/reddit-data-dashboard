{
 "cells": [
  {
   "cell_type": "markdown",
   "id": "4f5a04dd",
   "metadata": {},
   "source": [
    "# Project Dashboard setup\n",
    "\n",
    "This notebook clones my GitHub project and installs its python dependencies into your pre-existing python environment\n",
    "\n",
    "- Repo: `https://github.com/himani0309/reddit-data-dashboard.git`\n",
    "\n",
    "Run the cells top-to-bottom."
   ]
  },
  {
   "cell_type": "code",
   "execution_count": 1,
   "id": "8dc5180e",
   "metadata": {},
   "outputs": [
    {
     "name": "stderr",
     "output_type": "stream",
     "text": [
      "Cloning into 'reddit-data-dashboard'...\n"
     ]
    }
   ],
   "source": [
    "%%bash\n",
    "\n",
    "git clone https://github.com/himani0309/reddit-data-dashboard.git\n",
    "cd reddit-data-dashboard"
   ]
  },
  {
   "cell_type": "code",
   "execution_count": 2,
   "id": "35344f58",
   "metadata": {},
   "outputs": [
    {
     "name": "stdout",
     "output_type": "stream",
     "text": [
      "Requirement already satisfied: streamlit in /home/gupta/venv/lib/python3.12/site-packages (1.48.0)\n",
      "Requirement already satisfied: pandas in /home/gupta/venv/lib/python3.12/site-packages (2.3.1)\n",
      "Requirement already satisfied: seaborn in /home/gupta/venv/lib/python3.12/site-packages (0.13.2)\n",
      "Requirement already satisfied: matplotlib in /home/gupta/venv/lib/python3.12/site-packages (3.10.5)\n",
      "Requirement already satisfied: wordcloud in /home/gupta/venv/lib/python3.12/site-packages (1.9.4)\n",
      "Requirement already satisfied: altair!=5.4.0,!=5.4.1,<6,>=4.0 in /home/gupta/venv/lib/python3.12/site-packages (from streamlit) (5.5.0)\n",
      "Requirement already satisfied: blinker<2,>=1.5.0 in /home/gupta/venv/lib/python3.12/site-packages (from streamlit) (1.9.0)\n",
      "Requirement already satisfied: cachetools<7,>=4.0 in /home/gupta/venv/lib/python3.12/site-packages (from streamlit) (6.1.0)\n",
      "Requirement already satisfied: click<9,>=7.0 in /home/gupta/venv/lib/python3.12/site-packages (from streamlit) (8.2.1)\n",
      "Requirement already satisfied: numpy<3,>=1.23 in /home/gupta/venv/lib/python3.12/site-packages (from streamlit) (2.3.2)\n",
      "Requirement already satisfied: packaging<26,>=20 in /home/gupta/venv/lib/python3.12/site-packages (from streamlit) (25.0)\n",
      "Requirement already satisfied: pillow<12,>=7.1.0 in /home/gupta/venv/lib/python3.12/site-packages (from streamlit) (11.3.0)\n",
      "Requirement already satisfied: protobuf<7,>=3.20 in /home/gupta/venv/lib/python3.12/site-packages (from streamlit) (6.31.1)\n",
      "Requirement already satisfied: pyarrow>=7.0 in /home/gupta/venv/lib/python3.12/site-packages (from streamlit) (21.0.0)\n",
      "Requirement already satisfied: requests<3,>=2.27 in /home/gupta/venv/lib/python3.12/site-packages (from streamlit) (2.32.4)\n",
      "Requirement already satisfied: tenacity<10,>=8.1.0 in /home/gupta/venv/lib/python3.12/site-packages (from streamlit) (9.1.2)\n",
      "Requirement already satisfied: toml<2,>=0.10.1 in /home/gupta/venv/lib/python3.12/site-packages (from streamlit) (0.10.2)\n",
      "Requirement already satisfied: typing-extensions<5,>=4.4.0 in /home/gupta/venv/lib/python3.12/site-packages (from streamlit) (4.14.1)\n",
      "Requirement already satisfied: watchdog<7,>=2.1.5 in /home/gupta/venv/lib/python3.12/site-packages (from streamlit) (6.0.0)\n",
      "Requirement already satisfied: gitpython!=3.1.19,<4,>=3.0.7 in /home/gupta/venv/lib/python3.12/site-packages (from streamlit) (3.1.45)\n",
      "Requirement already satisfied: pydeck<1,>=0.8.0b4 in /home/gupta/venv/lib/python3.12/site-packages (from streamlit) (0.9.1)\n",
      "Requirement already satisfied: tornado!=6.5.0,<7,>=6.0.3 in /home/gupta/venv/lib/python3.12/site-packages (from streamlit) (6.5.2)\n",
      "Requirement already satisfied: python-dateutil>=2.8.2 in /home/gupta/venv/lib/python3.12/site-packages (from pandas) (2.9.0.post0)\n",
      "Requirement already satisfied: pytz>=2020.1 in /home/gupta/venv/lib/python3.12/site-packages (from pandas) (2025.2)\n",
      "Requirement already satisfied: tzdata>=2022.7 in /home/gupta/venv/lib/python3.12/site-packages (from pandas) (2025.2)\n",
      "Requirement already satisfied: jinja2 in /home/gupta/venv/lib/python3.12/site-packages (from altair!=5.4.0,!=5.4.1,<6,>=4.0->streamlit) (3.1.6)\n",
      "Requirement already satisfied: jsonschema>=3.0 in /home/gupta/venv/lib/python3.12/site-packages (from altair!=5.4.0,!=5.4.1,<6,>=4.0->streamlit) (4.25.0)\n",
      "Requirement already satisfied: narwhals>=1.14.2 in /home/gupta/venv/lib/python3.12/site-packages (from altair!=5.4.0,!=5.4.1,<6,>=4.0->streamlit) (2.0.1)\n",
      "Requirement already satisfied: gitdb<5,>=4.0.1 in /home/gupta/venv/lib/python3.12/site-packages (from gitpython!=3.1.19,<4,>=3.0.7->streamlit) (4.0.12)\n",
      "Requirement already satisfied: smmap<6,>=3.0.1 in /home/gupta/venv/lib/python3.12/site-packages (from gitdb<5,>=4.0.1->gitpython!=3.1.19,<4,>=3.0.7->streamlit) (5.0.2)\n",
      "Requirement already satisfied: charset_normalizer<4,>=2 in /home/gupta/venv/lib/python3.12/site-packages (from requests<3,>=2.27->streamlit) (3.4.2)\n",
      "Requirement already satisfied: idna<4,>=2.5 in /home/gupta/venv/lib/python3.12/site-packages (from requests<3,>=2.27->streamlit) (3.10)\n",
      "Requirement already satisfied: urllib3<3,>=1.21.1 in /home/gupta/venv/lib/python3.12/site-packages (from requests<3,>=2.27->streamlit) (2.5.0)\n",
      "Requirement already satisfied: certifi>=2017.4.17 in /home/gupta/venv/lib/python3.12/site-packages (from requests<3,>=2.27->streamlit) (2025.8.3)\n",
      "Requirement already satisfied: contourpy>=1.0.1 in /home/gupta/venv/lib/python3.12/site-packages (from matplotlib) (1.3.3)\n",
      "Requirement already satisfied: cycler>=0.10 in /home/gupta/venv/lib/python3.12/site-packages (from matplotlib) (0.12.1)\n",
      "Requirement already satisfied: fonttools>=4.22.0 in /home/gupta/venv/lib/python3.12/site-packages (from matplotlib) (4.59.0)\n",
      "Requirement already satisfied: kiwisolver>=1.3.1 in /home/gupta/venv/lib/python3.12/site-packages (from matplotlib) (1.4.8)\n",
      "Requirement already satisfied: pyparsing>=2.3.1 in /home/gupta/venv/lib/python3.12/site-packages (from matplotlib) (3.2.3)\n",
      "Requirement already satisfied: MarkupSafe>=2.0 in /home/gupta/venv/lib/python3.12/site-packages (from jinja2->altair!=5.4.0,!=5.4.1,<6,>=4.0->streamlit) (3.0.2)\n",
      "Requirement already satisfied: attrs>=22.2.0 in /home/gupta/venv/lib/python3.12/site-packages (from jsonschema>=3.0->altair!=5.4.0,!=5.4.1,<6,>=4.0->streamlit) (25.3.0)\n",
      "Requirement already satisfied: jsonschema-specifications>=2023.03.6 in /home/gupta/venv/lib/python3.12/site-packages (from jsonschema>=3.0->altair!=5.4.0,!=5.4.1,<6,>=4.0->streamlit) (2025.4.1)\n",
      "Requirement already satisfied: referencing>=0.28.4 in /home/gupta/venv/lib/python3.12/site-packages (from jsonschema>=3.0->altair!=5.4.0,!=5.4.1,<6,>=4.0->streamlit) (0.36.2)\n",
      "Requirement already satisfied: rpds-py>=0.7.1 in /home/gupta/venv/lib/python3.12/site-packages (from jsonschema>=3.0->altair!=5.4.0,!=5.4.1,<6,>=4.0->streamlit) (0.27.0)\n",
      "Requirement already satisfied: six>=1.5 in /home/gupta/venv/lib/python3.12/site-packages (from python-dateutil>=2.8.2->pandas) (1.17.0)\n"
     ]
    }
   ],
   "source": [
    "%%bash\n",
    "\n",
    "python -m pip install --upgrade streamlit pandas seaborn matplotlib wordcloud\n"
   ]
  },
  {
   "cell_type": "code",
   "execution_count": 4,
   "id": "1203cb2d",
   "metadata": {},
   "outputs": [
    {
     "name": "stdout",
     "output_type": "stream",
     "text": [
      "Current working dir: /home/gupta/Desktop/reddit-data-dashboard\n",
      "total 64\n",
      "drwxrwxr-x 6 gupta gupta 4096 Aug  9 13:46 .\n",
      "drwxr-xr-x 4 gupta gupta 4096 Aug  4 04:31 ..\n",
      "-rw-rw-r-- 1 gupta gupta 5411 Aug  4 05:29 app.py\n",
      "-rw-rw-r-- 1 gupta gupta   60 Aug  4 04:38 .env\n",
      "drwxrwxr-x 8 gupta gupta 4096 Aug  9 13:45 .git\n",
      "-rw-rw-r-- 1 gupta gupta   25 Aug  4 03:55 .gitignore\n",
      "-rw-rw-r-- 1 gupta gupta 8715 Aug  9 13:46 himani_assignment.ipynb\n",
      "drwxrwxr-x 3 gupta gupta 4096 Aug  2 21:09 output\n",
      "-rw-rw-r-- 1 gupta gupta 5763 Aug  4 04:39 README.md\n"
     ]
    }
   ],
   "source": [
    "import os\n",
    "\n",
    "# Go to the folder where this notebook is located\n",
    "os.chdir(os.path.dirname(os.path.abspath(\"__file__\")))\n",
    "print(\"Current working dir:\", os.getcwd())\n",
    "\n",
    "# Check files in current dir\n",
    "!ls -la | head\n"
   ]
  },
  {
   "cell_type": "code",
   "execution_count": 5,
   "id": "a34340ff",
   "metadata": {},
   "outputs": [
    {
     "name": "stdout",
     "output_type": "stream",
     "text": [
      "\u001b[0m\n",
      "\u001b[34m\u001b[1m  You can now view your Streamlit app in your browser.\u001b[0m\n",
      "\u001b[0m\n",
      "\u001b[34m  Local URL: \u001b[0m\u001b[1mhttp://localhost:8501\u001b[0m\n",
      "\u001b[34m  Network URL: \u001b[0m\u001b[1mhttp://172.22.70.78:8501\u001b[0m\n",
      "\u001b[0m\n",
      "/home/gupta/Desktop/reddit-data-dashboard/app.py:15: UserWarning: Converting to PeriodArray/Index representation will drop timezone information.\n",
      "  df['post_month'] = df['post_date'].dt.to_period('M')\n",
      "\u001b[34m  Stopping...\u001b[0m\n",
      "^C\n"
     ]
    }
   ],
   "source": [
    "!streamlit run app.py\n",
    "# agar port busy error aaye to:\n",
    "# !streamlit run app.py --server.port 8502\n"
   ]
  }
 ],
 "metadata": {
  "kernelspec": {
   "display_name": "Python (venv)",
   "language": "python",
   "name": "venv"
  },
  "language_info": {
   "codemirror_mode": {
    "name": "ipython",
    "version": 3
   },
   "file_extension": ".py",
   "mimetype": "text/x-python",
   "name": "python",
   "nbconvert_exporter": "python",
   "pygments_lexer": "ipython3",
   "version": "3.12.9"
  }
 },
 "nbformat": 4,
 "nbformat_minor": 5
}
