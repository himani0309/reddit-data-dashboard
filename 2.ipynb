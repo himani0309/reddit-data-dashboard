{
 "cells": [
  {
   "cell_type": "markdown",
   "id": "adb164a2",
   "metadata": {},
   "source": [
    "# 📊 Reddit Post Analysis Dashboard (Notebook Version)\n",
    "\n",
    "This notebook explores Reddit post data to understand:\n",
    "- Sentiment trends (positive/negative/neutral/etc.)\n",
    "- Misinformation patterns\n",
    "- Post-comment theme alignment\n",
    "- Engagement insights (upvotes/downvotes)\n"
   ]
  },
  {
   "cell_type": "code",
   "execution_count": null,
   "id": "ab124898",
   "metadata": {},
   "outputs": [],
   "source": [
    "import pandas as pd\n",
    "import seaborn as sns\n",
    "import matplotlib.pyplot as plt\n",
    "import ast\n",
    "\n",
    "# Load data\n",
    "df = pd.read_csv(\"Expanded_Fake_Reddit_Posts.csv\")\n",
    "\n",
    "# Convert stringified lists into real lists\n",
    "for col in ['post_details'] + [f'comment_{i}_details' for i in range(1, 6)]:\n",
    "    df[col] = df[col].apply(ast.literal_eval)\n",
    "\n",
    "# Extract structured fields\n",
    "df['post_theme'] = df['post_details'].apply(lambda x: x[0])\n",
    "df['post_misinfo'] = df['post_details'].apply(lambda x: x[1])\n",
    "df['post_topic'] = df['post_details'].apply(lambda x: x[2])\n",
    "df['post_date'] = pd.to_datetime(df['post_date'])\n",
    "df['post_month'] = df['post_date'].dt.to_period('M')\n",
    "df['upvote_ratio'] = df['post_upvote'] / (df['post_upvote'] + df['post_downvote'])\n",
    "\n",
    "# Flatten comment data\n",
    "comment_themes, comment_misinfos = [], []\n",
    "for i in range(1, 6):\n",
    "    comment_themes += df[f'comment_{i}_details'].apply(lambda x: x[0]).tolist()\n",
    "    comment_misinfos += df[f'comment_{i}_details'].apply(lambda x: x[1]).tolist()\n",
    "\n",
    "comment_theme_df = pd.DataFrame({'theme': comment_themes})\n",
    "comment_misinfo_df = pd.DataFrame({'misinfo': comment_misinfos})\n",
    "\n",
    "# Aggregations\n",
    "misinfo_df = pd.DataFrame({\n",
    "    'Posts': df['post_misinfo'].value_counts(),\n",
    "    'Comments': comment_misinfo_df['misinfo'].value_counts()\n",
    "}).fillna(0)\n",
    "\n",
    "monthly_trends = df.groupby(['post_month', 'post_theme']).size().unstack(fill_value=0)\n",
    "monthly_trends.index = monthly_trends.index.to_timestamp()\n",
    "\n",
    "topic_theme = df.groupby(['post_topic', 'post_theme']).size().unstack(fill_value=0)\n"
   ]
  },
  {
   "cell_type": "markdown",
   "id": "92e50051",
   "metadata": {},
   "source": [
    "### 🎭 Post Theme Distribution\n",
    "\n",
    "This donut chart shows how frequently different post themes appear — such as positive, neutral, funny, ignorant, etc.\n",
    "It gives a quick overview of the tone of the posts shared on Reddit.\n"
   ]
  },
  {
   "cell_type": "code",
   "execution_count": null,
   "id": "0420c954",
   "metadata": {},
   "outputs": [],
   "source": [
    "# Donut chart for post themes\n",
    "theme_counts = df['post_theme'].value_counts()\n",
    "\n",
    "plt.figure(figsize=(6, 6))\n",
    "plt.pie(theme_counts, labels=theme_counts.index, autopct='%1.1f%%',\n",
    "        startangle=140, wedgeprops=dict(width=0.4), colors=sns.color_palette(\"Set2\"))\n",
    "plt.title(\"Post Theme Distribution\")\n",
    "plt.axis('equal')\n",
    "plt.show()\n"
   ]
  },
  {
   "cell_type": "markdown",
   "id": "bd765328",
   "metadata": {},
   "source": [
    "# Donut chart for post themes\n",
    "theme_counts = df['post_theme'].value_counts()\n",
    "\n",
    "plt.figure(figsize=(6, 6))\n",
    "plt.pie(theme_counts, labels=theme_counts.index, autopct='%1.1f%%',\n",
    "        startangle=140, wedgeprops=dict(width=0.4), colors=sns.color_palette(\"Set2\"))\n",
    "plt.title(\"Post Theme Distribution\")\n",
    "plt.axis('equal')\n",
    "plt.show()\n"
   ]
  },
  {
   "cell_type": "code",
   "execution_count": null,
   "id": "0e3e8206",
   "metadata": {},
   "outputs": [],
   "source": [
    "plt.figure(figsize=(8, 5))\n",
    "sns.countplot(y='theme', data=comment_theme_df,\n",
    "              order=comment_theme_df['theme'].value_counts().index,\n",
    "              palette='Set3')\n",
    "plt.title(\"Comment Theme Distribution\")\n",
    "plt.xlabel(\"Count\")\n",
    "plt.ylabel(\"Theme\")\n",
    "plt.show()\n"
   ]
  },
  {
   "cell_type": "markdown",
   "id": "ea636f51",
   "metadata": {},
   "source": [
    "### ⚠️ Misinformation in Posts vs Comments\n",
    "\n",
    "This grouped bar chart compares the frequency of misinformation across posts and comments.\n",
    "Categories include: none, mild, and blatant misinformation.\n"
   ]
  },
  {
   "cell_type": "code",
   "execution_count": null,
   "id": "05cb218c",
   "metadata": {},
   "outputs": [],
   "source": [
    "misinfo_df.plot(kind='bar', figsize=(8, 5), color=sns.color_palette(\"Set1\"))\n",
    "plt.title(\"Misinformation in Posts vs Comments\")\n",
    "plt.xlabel(\"Misinformation Level\")\n",
    "plt.ylabel(\"Count\")\n",
    "plt.show()\n"
   ]
  },
  {
   "cell_type": "markdown",
   "id": "1f02db20",
   "metadata": {},
   "source": [
    "### 📚 Topics Most Discussed in Posts\n",
    "\n",
    "This horizontal bar chart reveals the most frequent discussion topics, such as:\n",
    "- AI in education\n",
    "- Study habits\n",
    "- Procrastination\n"
   ]
  },
  {
   "cell_type": "code",
   "execution_count": null,
   "id": "9debe949",
   "metadata": {},
   "outputs": [],
   "source": [
    "plt.figure(figsize=(8, 6))\n",
    "df['post_topic'].value_counts().sort_values().plot(kind='barh', color='skyblue')\n",
    "plt.title(\"Most Discussed Topics in Posts\")\n",
    "plt.xlabel(\"Post Count\")\n",
    "plt.ylabel(\"Topic\")\n",
    "plt.show()\n"
   ]
  },
  {
   "cell_type": "markdown",
   "id": "80ab9e85",
   "metadata": {},
   "source": [
    "### 👍 Upvote Ratio by Post Theme\n",
    "\n",
    "This box plot shows whether different types of post themes (positive, funny, etc.) receive higher approval (upvote ratio).\n"
   ]
  },
  {
   "cell_type": "code",
   "execution_count": null,
   "id": "067c31c2",
   "metadata": {},
   "outputs": [],
   "source": [
    "plt.figure(figsize=(8, 5))\n",
    "sns.boxplot(x='post_theme', y='upvote_ratio', data=df, palette=\"Set2\")\n",
    "plt.title(\"Upvote Ratio by Post Theme\")\n",
    "plt.xlabel(\"Theme\")\n",
    "plt.ylabel(\"Upvote Ratio\")\n",
    "plt.show()\n"
   ]
  },
  {
   "cell_type": "markdown",
   "id": "e17fae06",
   "metadata": {},
   "source": [
    "### 🔁 Upvotes vs Downvotes\n",
    "\n",
    "This scatter plot (log-log scale) helps spot controversial or viral posts based on their upvote/downvote counts.\n"
   ]
  },
  {
   "cell_type": "code",
   "execution_count": null,
   "id": "e032b63d",
   "metadata": {},
   "outputs": [],
   "source": [
    "plt.figure(figsize=(8, 5))\n",
    "sns.scatterplot(x='post_upvote', y='post_downvote', data=df, alpha=0.6)\n",
    "plt.xscale(\"log\")\n",
    "plt.yscale(\"log\")\n",
    "plt.title(\"Upvotes vs Downvotes (Log Scale)\")\n",
    "plt.xlabel(\"Upvotes\")\n",
    "plt.ylabel(\"Downvotes\")\n",
    "plt.show()\n"
   ]
  },
  {
   "cell_type": "markdown",
   "id": "c863e915",
   "metadata": {},
   "source": [
    "### 📅 Monthly Theme Trends\n",
    "\n",
    "This line plot tracks how post themes have evolved month by month.\n",
    "Useful for spotting seasonal or trending sentiment changes.\n"
   ]
  },
  {
   "cell_type": "code",
   "execution_count": null,
   "id": "fb0f971e",
   "metadata": {},
   "outputs": [],
   "source": [
    "plt.figure(figsize=(10, 5))\n",
    "monthly_trends.plot(linewidth=2)\n",
    "plt.title(\"Monthly Theme Trends\")\n",
    "plt.xlabel(\"Month\")\n",
    "plt.ylabel(\"Post Count\")\n",
    "plt.grid(True)\n",
    "plt.show()\n"
   ]
  },
  {
   "cell_type": "markdown",
   "id": "f998ff4a",
   "metadata": {},
   "source": [
    "### 🔥 Topic vs Theme Heatmap\n",
    "\n",
    "This heatmap shows how different themes appear under each discussion topic.\n",
    "Helps detect which topics draw controversy, support, humor, etc.\n"
   ]
  },
  {
   "cell_type": "code",
   "execution_count": null,
   "id": "28eeb591",
   "metadata": {},
   "outputs": [],
   "source": [
    "plt.figure(figsize=(10, 6))\n",
    "sns.heatmap(topic_theme, annot=True, fmt='d', cmap=\"YlGnBu\")\n",
    "plt.title(\"Topic vs Theme Heatmap\")\n",
    "plt.xlabel(\"Theme\")\n",
    "plt.ylabel(\"Post Topic\")\n",
    "plt.show()\n"
   ]
  },
  {
   "cell_type": "markdown",
   "id": "6518a1bf",
   "metadata": {},
   "source": [
    "### 📊 Comment Misinformation Distribution\n",
    "\n",
    "This chart shows how much misinformation exists in the comment sections.\n",
    "It reflects whether misinformation is more common in replies or not.\n"
   ]
  },
  {
   "cell_type": "code",
   "execution_count": null,
   "id": "bbd40b42",
   "metadata": {},
   "outputs": [],
   "source": [
    "plt.figure(figsize=(7, 4))\n",
    "sns.countplot(x='misinfo', data=comment_misinfo_df, palette=\"muted\",\n",
    "              order=comment_misinfo_df['misinfo'].value_counts().index)\n",
    "plt.title(\"Comment Misinformation Distribution\")\n",
    "plt.xlabel(\"Misinformation Level\")\n",
    "plt.ylabel(\"Comment Count\")\n",
    "plt.show()\n"
   ]
  },
  {
   "cell_type": "markdown",
   "id": "1ebbff3b",
   "metadata": {},
   "source": [
    "### 🔥 Most Controversial Posts\n",
    "\n",
    "Controversy Score = Upvotes + Downvotes  \n",
    "This chart ranks posts by their combined vote count to spotlight polarizing content.\n"
   ]
  },
  {
   "cell_type": "code",
   "execution_count": null,
   "id": "3acbbaf8",
   "metadata": {},
   "outputs": [],
   "source": [
    "df['controversy_score'] = df['post_upvote'] + df['post_downvote']\n",
    "top_controversial = df.sort_values(by='controversy_score', ascending=False).head(10)\n",
    "\n",
    "plt.figure(figsize=(10, 6))\n",
    "sns.barplot(y=top_controversial['post_title'], x=top_controversial['controversy_score'], palette=\"rocket\")\n",
    "plt.xlabel(\"Controversy Score (Upvotes + Downvotes)\")\n",
    "plt.ylabel(\"Post Title\")\n",
    "plt.title(\"Top 10 Most Controversial Posts\")\n",
    "plt.show()\n"
   ]
  },
  {
   "cell_type": "markdown",
   "id": "f9e6856d",
   "metadata": {},
   "source": [
    "### 🎯 Theme Alignment Between Posts & Comments\n",
    "\n",
    "This compares whether comment tone aligns with the original post’s theme.  \n",
    "Helps identify agreement vs sarcasm, trolling, or sentiment drift.\n"
   ]
  },
  {
   "cell_type": "code",
   "execution_count": null,
   "id": "85c2b6f9",
   "metadata": {},
   "outputs": [],
   "source": [
    "# Match count across 5 comments per post\n",
    "alignment = []\n",
    "for i in range(1, 6):\n",
    "    match = df['post_theme'] == df[f'comment_{i}_details'].apply(lambda x: x[0])\n",
    "    alignment.extend(match)\n",
    "\n",
    "alignment_df = pd.Series(alignment).value_counts(normalize=True) * 100\n",
    "\n",
    "plt.figure(figsize=(6, 4))\n",
    "alignment_df.plot(kind='bar', color=['green', 'red'])\n",
    "plt.xticks([0, 1], ['Matched', 'Did Not Match'], rotation=0)\n",
    "plt.ylabel(\"Percentage of Comments\")\n",
    "plt.title(\"Theme Match Between Post & Comments\")\n",
    "plt.show()\n"
   ]
  },
  {
   "cell_type": "markdown",
   "id": "7ad677bb",
   "metadata": {},
   "source": [
    "### 📈 Monthly Trend of Misinformation in Posts\n",
    "\n",
    "This line chart shows how misinformation levels (e.g. none, mild, blatant) have changed over time.\n"
   ]
  },
  {
   "cell_type": "code",
   "execution_count": null,
   "id": "e9ed8a29",
   "metadata": {},
   "outputs": [],
   "source": [
    "monthly_misinfo = df.groupby(['post_month', 'post_misinfo']).size().unstack().fillna(0)\n",
    "monthly_misinfo.index = monthly_misinfo.index.to_timestamp()\n",
    "\n",
    "plt.figure(figsize=(10, 5))\n",
    "monthly_misinfo.plot()\n",
    "plt.title(\"Monthly Trend of Misinformation in Posts\")\n",
    "plt.xlabel(\"Month\")\n",
    "plt.ylabel(\"Number of Posts\")\n",
    "plt.grid(True)\n",
    "plt.show()\n"
   ]
  },
  {
   "cell_type": "markdown",
   "id": "65dc4b3e",
   "metadata": {},
   "source": []
  }
 ],
 "metadata": {
  "kernelspec": {
   "display_name": "base",
   "language": "python",
   "name": "python3"
  },
  "language_info": {
   "name": "python",
   "version": "3.12.9"
  }
 },
 "nbformat": 4,
 "nbformat_minor": 5
}
